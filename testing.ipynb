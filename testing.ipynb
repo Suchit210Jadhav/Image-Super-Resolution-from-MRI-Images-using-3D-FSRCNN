{
  "nbformat": 4,
  "nbformat_minor": 0,
  "metadata": {
    "colab": {
      "name": "Testing.ipynb",
      "provenance": [],
      "collapsed_sections": []
    },
    "kernelspec": {
      "name": "python3",
      "display_name": "Python 3"
    },
    "accelerator": "GPU"
  },
  "cells": [
    {
      "cell_type": "code",
      "metadata": {
        "id": "rCKx9GrYQrxJ",
        "colab_type": "code",
        "colab": {}
      },
      "source": [
        "%tensorflow_version 1.x\n",
        "from skimage import measure, transform\n",
        "import matplotlib.pyplot as plt\n",
        "from keras import backend as K\n",
        "import nibabel as nib\n",
        "import numpy as np\n",
        "import glob\n",
        "import math\n",
        "import time"
      ],
      "execution_count": 0,
      "outputs": []
    },
    {
      "cell_type": "code",
      "metadata": {
        "id": "AAxCh6cqQziX",
        "colab_type": "code",
        "colab": {
          "base_uri": "https://localhost:8080/",
          "height": 122
        },
        "outputId": "111dc632-b6a3-4188-9bff-a120063768bf"
      },
      "source": [
        "from google.colab import drive\n",
        "drive.mount('/content/drive')"
      ],
      "execution_count": 2,
      "outputs": [
        {
          "output_type": "stream",
          "text": [
            "Go to this URL in a browser: https://accounts.google.com/o/oauth2/auth?client_id=947318989803-6bn6qk8qdgf4n4g3pfee6491hc0brc4i.apps.googleusercontent.com&redirect_uri=urn%3aietf%3awg%3aoauth%3a2.0%3aoob&response_type=code&scope=email%20https%3a%2f%2fwww.googleapis.com%2fauth%2fdocs.test%20https%3a%2f%2fwww.googleapis.com%2fauth%2fdrive%20https%3a%2f%2fwww.googleapis.com%2fauth%2fdrive.photos.readonly%20https%3a%2f%2fwww.googleapis.com%2fauth%2fpeopleapi.readonly\n",
            "\n",
            "Enter your authorization code:\n",
            "··········\n",
            "Mounted at /content/drive\n"
          ],
          "name": "stdout"
        }
      ]
    },
    {
      "cell_type": "code",
      "metadata": {
        "id": "t-UdhMkeTPDX",
        "colab_type": "code",
        "colab": {}
      },
      "source": [
        "def fft_lr(img, factor):\n",
        "    x = int(img.shape[1]//(factor*2))\n",
        "    imgfft = np.fft.fftn(img)\n",
        "    imgfft = np.fft.fftshift(imgfft)\n",
        "    y_center = imgfft.shape[1] // 2\n",
        "    z_center = imgfft.shape[2] // 2\n",
        "    imgfft = imgfft[:, y_center-x : y_center+x, z_center-x : z_center+x]\n",
        "    imgifft = np.fft.ifftn(imgfft)\n",
        "    lr_img = abs(imgifft)\n",
        "\n",
        "    lr_img = transform.resize(lr_img, img.shape)\n",
        "    lr_img /= lr_img.max()\n",
        "    lr_img *= 255\n",
        "    return lr_img"
      ],
      "execution_count": 0,
      "outputs": []
    },
    {
      "cell_type": "code",
      "metadata": {
        "id": "TWCglwfHQ15e",
        "colab_type": "code",
        "colab": {}
      },
      "source": [
        "def PSNR(y_true, y_pred):\n",
        "    max_pixel = 255.0\n",
        "    return 10.0 * (1.0 / math.log(10)) * K.log((max_pixel ** 2) / (K.mean(K.square(y_pred - y_true))))"
      ],
      "execution_count": 0,
      "outputs": []
    },
    {
      "cell_type": "code",
      "metadata": {
        "id": "qQNa9qvKQ4WG",
        "colab_type": "code",
        "colab": {}
      },
      "source": [
        "def psnr(y_true, y_pred):\n",
        "    # y_true = y_true.astype(np.float64) / 255.\n",
        "    # y_pred = y_pred.astype(np.float64) / 255.\n",
        "    mse = np.mean( (y_true - y_pred) ** 2 )\n",
        "    if mse == 0:\n",
        "      return 100\n",
        "    return 20 * math.log10(255 / math.sqrt(mse))"
      ],
      "execution_count": 0,
      "outputs": []
    },
    {
      "cell_type": "code",
      "metadata": {
        "id": "jhl6L_luQ6YO",
        "colab_type": "code",
        "colab": {}
      },
      "source": [
        "from keras.models import load_model\n",
        "m2d = load_model('/content/drive/My Drive/Colab Notebooks/final/model_2d_fft.h5')\n",
        "m3d = load_model('/content/drive/My Drive/Colab Notebooks/final/model_3d_915_32x32.h5')\n",
        "m3df = load_model('/content/drive/My Drive/Colab Notebooks/final/fsrcnn_56_16_relu_2.h5', custom_objects={'PSNR': PSNR})"
      ],
      "execution_count": 0,
      "outputs": []
    },
    {
      "cell_type": "code",
      "metadata": {
        "id": "uMybLnL6TG0x",
        "colab_type": "code",
        "colab": {}
      },
      "source": [
        "files = (glob.glob(\"/content/drive/My Drive/scanss/*.nii.gz\"))"
      ],
      "execution_count": 0,
      "outputs": []
    },
    {
      "cell_type": "code",
      "metadata": {
        "id": "ptTsgGarSemY",
        "colab_type": "code",
        "colab": {
          "base_uri": "https://localhost:8080/",
          "height": 309
        },
        "outputId": "d42de4b6-6d6a-4013-b08d-522eb9fa0140"
      },
      "source": [
        "#for 2dsrcnn\n",
        "timez = 0\n",
        "p = 35\n",
        "s = 0.95\n",
        "maxp = 0\n",
        "minp = 100\n",
        "maxs = 0\n",
        "mins = 100\n",
        "for image in range (len(files)):\n",
        "    start_time = time.time()\n",
        "    img = nib.load(files[image])\n",
        "    img_data = img.get_fdata()\n",
        "    img_data = img_data/(np.amax(img_data))\n",
        "    img_data = img_data * 255\n",
        "    hr = np.array(img_data, dtype='uint8')\n",
        "\n",
        "    lr = fft_lr(hr, 2)\n",
        "    lr = np.array(lr, dtype='uint8')\n",
        "    for x in range(hr.shape[0]):\n",
        "        hr1 = hr[x,:,:]\n",
        "        lr1 = lr[x,:,:]\n",
        "        lr1_1 = np.reshape(lr1, (1, hr1.shape[0], hr1.shape[1], 1))\n",
        "\n",
        "        sr1 = m2d.predict(lr1_1)\n",
        "        sr1 = np.reshape(sr1,hr1.shape)\n",
        "        p = (p + psnr(hr1, sr1))/2\n",
        "        s0, d = measure.compare_ssim(hr1, sr1, full=True)\n",
        "        s = (s + s0)/2\n",
        "        if p > maxp:\n",
        "            maxp = p\n",
        "        if p < minp:\n",
        "            minp = p\n",
        "        if s > maxs:\n",
        "            maxs = s\n",
        "        if s < mins:\n",
        "            mins = s\n",
        "\n",
        "    for y in range(hr.shape[1]):\n",
        "        hr1 = hr[:,y,:]\n",
        "        lr1 = lr[:,y,:]\n",
        "        lr1_1 = np.reshape(lr1, (1, hr1.shape[0], hr1.shape[1], 1))\n",
        "\n",
        "        sr1 = m2d.predict(lr1_1)\n",
        "        sr1 = np.reshape(sr1,hr1.shape)\n",
        "        p = (p + psnr(hr1, sr1))/2\n",
        "        s0, d = measure.compare_ssim(hr1, sr1, full=True)\n",
        "        s = (s + s0)/2\n",
        "        if p > maxp:\n",
        "            maxp = p\n",
        "        if p < minp:\n",
        "            minp = p\n",
        "        if s > maxs:\n",
        "            maxs = s\n",
        "        if s < mins:\n",
        "            mins = s\n",
        "\n",
        "    for z in range(hr.shape[2]):\n",
        "        hr1 = hr[:,:,z]\n",
        "        lr1 = lr[:,:,z]\n",
        "        lr1_1 = np.reshape(lr1, (1, hr1.shape[0], hr1.shape[1], 1))\n",
        "\n",
        "        sr1 = m2d.predict(lr1_1)\n",
        "        sr1 = np.reshape(sr1,hr1.shape)\n",
        "        p = (p + psnr(hr1, sr1))/2\n",
        "        s0, d = measure.compare_ssim(hr1, sr1, full=True)\n",
        "        s = (s + s0)/2\n",
        "        if p > maxp:\n",
        "            maxp = p\n",
        "        if p < minp:\n",
        "            minp = p\n",
        "        if s > maxs:\n",
        "            maxs = s\n",
        "        if s < mins:\n",
        "            mins = s\n",
        "\n",
        "    timez += (time.time() - start_time)\n",
        "\n",
        "print()\n",
        "print(\"Max PSNR(2DSRCNN):\", maxp)\n",
        "print(\"Average PSNR(2DSRCNN):\", p)\n",
        "print(\"Min PSNR(2DSRCNN):\", minp)\n",
        "print()\n",
        "print(\"Max SSIM(2DSRCNN):\", maxs)\n",
        "print(\"Average SSIM(2DSRCNN):\", s)\n",
        "print(\"Min SSIM(2DSRCNN):\", mins)\n",
        "print()\n",
        "print(\"Average time(second) for each scan:\", timez/len(files))\n",
        "print()"
      ],
      "execution_count": 44,
      "outputs": [
        {
          "output_type": "stream",
          "text": [
            "/usr/local/lib/python3.6/dist-packages/ipykernel_launcher.py:27: UserWarning: DEPRECATED: skimage.measure.compare_ssim has been moved to skimage.metrics.structural_similarity. It will be removed from skimage.measure in version 0.18.\n",
            "/usr/local/lib/python3.6/dist-packages/skimage/measure/_structural_similarity.py:17: UserWarning: Inputs have mismatched dtype.  Setting data_range based on im1.dtype.\n",
            "  **kwargs)\n",
            "/usr/local/lib/python3.6/dist-packages/ipykernel_launcher.py:46: UserWarning: DEPRECATED: skimage.measure.compare_ssim has been moved to skimage.metrics.structural_similarity. It will be removed from skimage.measure in version 0.18.\n",
            "/usr/local/lib/python3.6/dist-packages/ipykernel_launcher.py:65: UserWarning: DEPRECATED: skimage.measure.compare_ssim has been moved to skimage.metrics.structural_similarity. It will be removed from skimage.measure in version 0.18.\n"
          ],
          "name": "stderr"
        },
        {
          "output_type": "stream",
          "text": [
            "\n",
            "Max PSNR(2DSRCNN): 37.155619744747895\n",
            "Average PSNR(2DSRCNN): 32.49401813642935\n",
            "Min PSNR(2DSRCNN): 24.97284103292985\n",
            "\n",
            "Max SSIM(2DSRCNN): 0.9844260463489186\n",
            "Average SSIM(2DSRCNN): 0.8608954532266173\n",
            "Min SSIM(2DSRCNN): 0.8102512056702726\n",
            "\n",
            "Average time(second) for each scan: 3.1840524514516195\n",
            "\n"
          ],
          "name": "stdout"
        }
      ]
    },
    {
      "cell_type": "code",
      "metadata": {
        "id": "viFeI0uCgScY",
        "colab_type": "code",
        "colab": {
          "base_uri": "https://localhost:8080/",
          "height": 275
        },
        "outputId": "6ac95f17-201d-4a84-a3a3-44d35f9d60fa"
      },
      "source": [
        "#for 3dsrcnn\n",
        "timez = 0\n",
        "p = 35\n",
        "s = 0.95\n",
        "maxp = 0\n",
        "minp = 100\n",
        "maxs = 0\n",
        "mins = 100\n",
        "for image in range (len(files)):\n",
        "    start_time = time.time()\n",
        "    img = nib.load(files[image])\n",
        "    img_data = img.get_fdata()\n",
        "    img_data = img_data/(np.amax(img_data))\n",
        "    img_data = img_data * 255\n",
        "    hr = np.array(img_data, dtype='uint8')\n",
        "\n",
        "    test_lr = fft_lr(hr, 2.5)\n",
        "    test_lr = np.array(test_lr, dtype='uint8')\n",
        "    test_sr = np.ndarray((256, 320, 320), dtype='uint8')\n",
        "\n",
        "    for i in range(0, 256, 64):\n",
        "        for j in range(0, 320, 64):\n",
        "            for k in range(0, 320, 64):\n",
        "                lrx = test_lr[i:i+64, j:j+64, k:k+64]\n",
        "                lrx = np.reshape(lrx, (1, lrx.shape[0], lrx.shape[1], lrx.shape[2], 1))\n",
        "                srx = m3d.predict(lrx)\n",
        "                srx = np.reshape(srx, (64,64,64))\n",
        "                test_sr[i:i+64, j:j+64, k:k+64] = srx\n",
        "    timez += time.time() - start_time\n",
        "\n",
        "    for x in range(hr.shape[0]):\n",
        "        hr1 = hr[x,:,:]\n",
        "        sr1 = test_sr[x,:,:]\n",
        "\n",
        "        p = (p + psnr(hr1, sr1))/2\n",
        "        s0, d = measure.compare_ssim(hr1, sr1, full=True)\n",
        "        s = (s + s0)/2\n",
        "        if p > maxp:\n",
        "            maxp = p\n",
        "        if p < minp:\n",
        "            minp = p\n",
        "        if s > maxs:\n",
        "            maxs = s\n",
        "        if s < mins:\n",
        "            mins = s\n",
        "\n",
        "    for y in range(hr.shape[1]):\n",
        "        hr1 = hr[:,y,:]\n",
        "        sr1 = test_sr[:,y,:]\n",
        "\n",
        "        p = (p + psnr(hr1, sr1))/2\n",
        "        s0, d = measure.compare_ssim(hr1, sr1, full=True)\n",
        "        s = (s + s0)/2\n",
        "        if p > maxp:\n",
        "            maxp = p\n",
        "        if p < minp:\n",
        "            minp = p\n",
        "        if s > maxs:\n",
        "            maxs = s\n",
        "        if s < mins:\n",
        "            mins = s\n",
        "\n",
        "    for z in range(hr.shape[2]):\n",
        "        hr1 = hr[:,:,z]\n",
        "        sr1 = test_sr[:,:,z]\n",
        "\n",
        "        p = (p + psnr(hr1, sr1))/2\n",
        "        s0, d = measure.compare_ssim(hr1, sr1, full=True)\n",
        "        s = (s + s0)/2\n",
        "        if p > maxp:\n",
        "            maxp = p\n",
        "        if p < minp:\n",
        "            minp = p\n",
        "        if s > maxs:\n",
        "            maxs = s\n",
        "        if s < mins:\n",
        "            mins = s\n",
        "\n",
        "print()\n",
        "print(\"Max PSNR(3DSRCNN):\", maxp)\n",
        "print(\"Average PSNR(3DSRCNN):\", p)\n",
        "print(\"Min PSNR(3DSRCNN):\", minp)\n",
        "print()\n",
        "print(\"Max SSIM(3DSRCNN):\", maxs)\n",
        "print(\"Average SSIM(3DSRCNN):\", s)\n",
        "print(\"Min SSIM(3DSRCNN):\", mins)\n",
        "print()\n",
        "print(\"Average time(second) for each scan:\", timez/len(files))\n",
        "print()"
      ],
      "execution_count": 39,
      "outputs": [
        {
          "output_type": "stream",
          "text": [
            "/usr/local/lib/python3.6/dist-packages/ipykernel_launcher.py:36: UserWarning: DEPRECATED: skimage.measure.compare_ssim has been moved to skimage.metrics.structural_similarity. It will be removed from skimage.measure in version 0.18.\n",
            "/usr/local/lib/python3.6/dist-packages/ipykernel_launcher.py:52: UserWarning: DEPRECATED: skimage.measure.compare_ssim has been moved to skimage.metrics.structural_similarity. It will be removed from skimage.measure in version 0.18.\n",
            "/usr/local/lib/python3.6/dist-packages/ipykernel_launcher.py:68: UserWarning: DEPRECATED: skimage.measure.compare_ssim has been moved to skimage.metrics.structural_similarity. It will be removed from skimage.measure in version 0.18.\n"
          ],
          "name": "stderr"
        },
        {
          "output_type": "stream",
          "text": [
            "\n",
            "Max PSNR(3DSRCNN): 41.22989450492577\n",
            "Average PSNR(3DSRCNN): 35.253762055833256\n",
            "Min PSNR(3DSRCNN): 29.290997790650188\n",
            "\n",
            "Max SSIM(3DSRCNN): 0.976620152412472\n",
            "Average SSIM(3DSRCNN): 0.904876076269809\n",
            "Min SSIM(3DSRCNN): 0.7497611097528034\n",
            "\n",
            "Average time(second) for each scan: 11.454299628734589\n",
            "\n"
          ],
          "name": "stdout"
        }
      ]
    },
    {
      "cell_type": "code",
      "metadata": {
        "id": "t2SRi_OsgYt3",
        "colab_type": "code",
        "colab": {
          "base_uri": "https://localhost:8080/",
          "height": 275
        },
        "outputId": "b4674853-848e-4611-e67f-9f25b16f0cd8"
      },
      "source": [
        "#for 3dfsrcnn\n",
        "timez = 0\n",
        "p = 35\n",
        "s= 0.95\n",
        "maxp = 0\n",
        "minp = 100\n",
        "maxs = 0\n",
        "mins = 100\n",
        "for image in range (len(files)):\n",
        "    start_time = time.time()\n",
        "    img = nib.load(files[image])\n",
        "    img_data = img.get_fdata()\n",
        "    img_data = img_data/(np.amax(img_data))\n",
        "    img_data = img_data * 255\n",
        "    hr = np.array(img_data, dtype='uint8')\n",
        "\n",
        "    lr = hr[::2, ::2, ::2]\n",
        "    sr = np.zeros((256, 320, 320), dtype='uint8')\n",
        "    x = 0\n",
        "    x1 = 0\n",
        "    y = 0\n",
        "    y1 = 0\n",
        "    z = 0\n",
        "    z1 = 0\n",
        "\n",
        "    for i in range(4):\n",
        "        y = 0\n",
        "        y1 = 0\n",
        "        for j in range(5):\n",
        "            z = 0\n",
        "            z1 = 0\n",
        "            for k in range(5):\n",
        "                lr0 = np.zeros((1, 32, 32, 32), dtype='uint8')\n",
        "                lr0[0] = lr[x:x+32, y:y+32, z:z+32]\n",
        "                lr0.shape = lr0.shape + (1,)\n",
        "                sr0 = m3df.predict(lr0)\n",
        "\n",
        "                sr0 = np.reshape(sr0, (1,64,64,64))\n",
        "                sr[x1:x1+64, y1:y1+64, z1:z1+64] = sr0[0]\n",
        "\n",
        "                z = z + 32\n",
        "                z1 = z1 + 64\n",
        "            y = y + 32\n",
        "            y1 = y1 + 64\n",
        "        x = x + 32\n",
        "        x1 = x1 + 64\n",
        "\n",
        "    timez += time.time() - start_time\n",
        "\n",
        "    for x in range(hr.shape[0]):\n",
        "        hr1 = hr[x,:,:]\n",
        "        sr1 = sr[x,:,:]\n",
        "\n",
        "        p = (p + psnr(hr1, sr1))/2\n",
        "        s0, d = measure.compare_ssim(hr1, sr1, full=True)\n",
        "        s = (s + s0)/2\n",
        "        if p > maxp:\n",
        "            maxp = p\n",
        "        if p < minp:\n",
        "            minp = p\n",
        "        if s > maxs:\n",
        "            maxs = s\n",
        "        if s < mins:\n",
        "            mins = s\n",
        "\n",
        "    for y in range(hr.shape[1]):\n",
        "        hr1 = hr[:,y,:]\n",
        "        sr1 = sr[:,y,:]\n",
        "\n",
        "        p = (p + psnr(hr1, sr1))/2\n",
        "        s0, d = measure.compare_ssim(hr1, sr1, full=True)\n",
        "        s = (s + s0)/2\n",
        "        if p > maxp:\n",
        "            maxp = p\n",
        "        if p < minp:\n",
        "            minp = p\n",
        "        if s > maxs:\n",
        "            maxs = s\n",
        "        if s < mins:\n",
        "            mins = s\n",
        "\n",
        "    for z in range(hr.shape[2]):\n",
        "        hr1 = hr[:,:,z]\n",
        "        sr1 = sr[:,:,z]\n",
        "\n",
        "        p = (p + psnr(hr1, sr1))/2\n",
        "        s0, d = measure.compare_ssim(hr1, sr1, full=True)\n",
        "        s = (s + s0)/2\n",
        "        if p > maxp:\n",
        "            maxp = p\n",
        "        if p < minp:\n",
        "            minp = p\n",
        "        if s > maxs:\n",
        "            maxs = s\n",
        "        if s < mins:\n",
        "            mins = s\n",
        "\n",
        "print()\n",
        "print(\"Max PSNR(3DFSRCNN):\", maxp)\n",
        "print(\"Average PSNR(3DFSRCNN):\", pg)\n",
        "print(\"Min PSNR(3DFSRCNN):\", minp)\n",
        "print()\n",
        "print(\"Max SSIM(3DFSRCNN):\", maxs)\n",
        "print(\"Average SSIM(3DFSRCNN):\", s)\n",
        "print(\"Min SSIM(3DFSRCNN):\", mins)\n",
        "print()\n",
        "print(\"Average time(second) for each scan:\", timez/len(files))\n",
        "print()"
      ],
      "execution_count": 40,
      "outputs": [
        {
          "output_type": "stream",
          "text": [
            "/usr/local/lib/python3.6/dist-packages/ipykernel_launcher.py:55: UserWarning: DEPRECATED: skimage.measure.compare_ssim has been moved to skimage.metrics.structural_similarity. It will be removed from skimage.measure in version 0.18.\n",
            "/usr/local/lib/python3.6/dist-packages/ipykernel_launcher.py:71: UserWarning: DEPRECATED: skimage.measure.compare_ssim has been moved to skimage.metrics.structural_similarity. It will be removed from skimage.measure in version 0.18.\n",
            "/usr/local/lib/python3.6/dist-packages/ipykernel_launcher.py:87: UserWarning: DEPRECATED: skimage.measure.compare_ssim has been moved to skimage.metrics.structural_similarity. It will be removed from skimage.measure in version 0.18.\n"
          ],
          "name": "stderr"
        },
        {
          "output_type": "stream",
          "text": [
            "\n",
            "Max PSNR(3DFSRCNN): 48.66321216684466\n",
            "Average PSNR(3DFSRCNN): 38.756011903383595\n",
            "Min PSNR(3DFSRCNN): 34.47256423180401\n",
            "\n",
            "Max SSIM(3DFSRCNN): 0.9853241307472062\n",
            "Average SSIM(3DFSRCNN): 0.9812111155616676\n",
            "Min SSIM(3DFSRCNN): 0.8471021333569505\n",
            "\n",
            "Average time(second) for each scan: 1.9810153047243755\n",
            "\n"
          ],
          "name": "stdout"
        }
      ]
    }
  ]
}